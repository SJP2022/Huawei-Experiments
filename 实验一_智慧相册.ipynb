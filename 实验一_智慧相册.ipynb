{
 "cells": [
  {
   "cell_type": "markdown",
   "id": "d4cc996d",
   "metadata": {},
   "source": [
    "# 图像标签服务初始化"
   ]
  },
  {
   "cell_type": "markdown",
   "id": "8129f929",
   "metadata": {},
   "source": [
    "### 引入相关的类库"
   ]
  },
  {
   "cell_type": "code",
   "execution_count": 6,
   "id": "a430aa0b",
   "metadata": {},
   "outputs": [],
   "source": [
    "# 调用包从图像识别包中调用，图像标签,工具包\n",
    "from image_sdk.utils import encode_to_base64\n",
    "from image_sdk.image_tagging import image_tagging_aksk\n",
    "from image_sdk.utils import init_global_env\n",
    "# 调用 json 解析传回的结果\n",
    "import json\n",
    "# 操作系统文件/文件夹的包\n",
    "import os\n",
    "import shutil\n",
    "# 图像处理展示相关的包\n",
    "from PIL import Image\n",
    "import numpy as np\n",
    "import matplotlib.pyplot as plt"
   ]
  },
  {
   "cell_type": "markdown",
   "id": "4ffa2ddf",
   "metadata": {},
   "source": [
    "### 设置相关参数"
   ]
  },
  {
   "cell_type": "code",
   "execution_count": 7,
   "id": "c4aef6bb",
   "metadata": {},
   "outputs": [],
   "source": [
    "init_global_env('cn-north-4')\n",
    "# 准备 ak,sk\n",
    "app_key = 'Z7SGEX75VG9QAC2DEJN4'\n",
    "app_secret = 'E9Jng1euLFlPsiY8OmIQ4qidq9UDGhiomh2NPYaQ'"
   ]
  },
  {
   "cell_type": "markdown",
   "id": "ad1f6b47",
   "metadata": {},
   "source": [
    "### 使用网络图像测试"
   ]
  },
  {
   "cell_type": "code",
   "execution_count": 8,
   "id": "3e7a96fb",
   "metadata": {
    "scrolled": true
   },
   "outputs": [
    {
     "name": "stdout",
     "output_type": "stream",
     "text": [
      "{'result': {'tags': [{'confidence': '99.71', 'i18n_tag': {'en': 'Person', 'zh': '人'}, 'tag': '人', 'type': 'object'}, {'confidence': '90.75', 'i18n_tag': {'en': 'Woman', 'zh': '女人'}, 'tag': '女人', 'type': 'object'}, {'confidence': '84.23', 'i18n_tag': {'en': 'Single', 'zh': '一个人'}, 'tag': '一个人', 'type': 'object'}, {'confidence': '81.93', 'i18n_tag': {'en': 'Female sex', 'zh': '女性'}, 'tag': '女性', 'type': 'object'}, {'confidence': '81.45', 'i18n_tag': {'en': 'Beauty', 'zh': '美女'}, 'tag': '美女', 'type': 'object'}]}}\n"
     ]
    }
   ],
   "source": [
    "# 使用网络图像测试\n",
    "demo_data_url = 'https://img2.baidu.com/it/u=766249321,3457443746&fm=26&fmt=auto'\n",
    "# call interface use the url\n",
    "result = image_tagging_aksk(app_key, app_secret, '', demo_data_url, 'zh', 5, 30)\n",
    "# 转化成 Python 字典形式\n",
    "tags = json.loads(result)\n",
    "print(tags)"
   ]
  },
  {
   "cell_type": "markdown",
   "id": "316626d2",
   "metadata": {},
   "source": [
    "# 利用标签打标相关的照片"
   ]
  },
  {
   "cell_type": "markdown",
   "id": "36bdc304",
   "metadata": {},
   "source": [
    "### 打标一张图片"
   ]
  },
  {
   "cell_type": "code",
   "execution_count": 9,
   "id": "74f022be",
   "metadata": {},
   "outputs": [
    {
     "name": "stdout",
     "output_type": "stream",
     "text": [
      "{'pic3.jpg': [{'confidence': '95.9', 'i18n_tag': {'en': 'Lion', 'zh': '狮子'}, 'tag': '狮子', 'type': 'object'}, {'confidence': '91.97', 'i18n_tag': {'en': 'Carnivora', 'zh': '食肉目'}, 'tag': '食肉目', 'type': 'object'}, {'confidence': '87.27', 'i18n_tag': {'en': 'Cat', 'zh': '猫'}, 'tag': '猫', 'type': 'object'}, {'confidence': '86.89', 'i18n_tag': {'en': 'Animal', 'zh': '动物'}, 'tag': '动物', 'type': 'object'}, {'confidence': '74.74', 'i18n_tag': {'en': 'Hairy', 'zh': '毛茸茸'}, 'tag': '毛茸茸', 'type': 'object'}]}\n"
     ]
    }
   ],
   "source": [
    "# 确定电子相册位置\n",
    "file_path ='data/'\n",
    "file_name = 'pic3.jpg'\n",
    "# 保存图片标签的字典\n",
    "labels={}\n",
    "# 图像打标\n",
    "result = image_tagging_aksk(app_key, app_secret, encode_to_base64(file_path + file_name), '', 'zh', 5, \n",
    "60)\n",
    "# 解析结果\n",
    "result_dic = json.loads(result)\n",
    "# 保存到字典中\n",
    "labels[file_name] = result_dic['result']['tags']\n",
    "print(labels)"
   ]
  },
  {
   "cell_type": "markdown",
   "id": "d3eb9a79",
   "metadata": {},
   "source": [
    "### 打标data文件夹下所有图片"
   ]
  },
  {
   "cell_type": "code",
   "execution_count": 10,
   "id": "dacdc2e3",
   "metadata": {},
   "outputs": [
    {
     "name": "stdout",
     "output_type": "stream",
     "text": [
      "{'pic8.jpg': [{'confidence': '77.85', 'i18n_tag': {'en': 'Dandelion', 'zh': '蒲公英'}, 'tag': '蒲公英', 'type': 'object'}, {'confidence': '74.6', 'i18n_tag': {'en': 'Plant', 'zh': '植物'}, 'tag': '植物', 'type': 'object'}, {'confidence': '74.58', 'i18n_tag': {'en': 'Natural', 'zh': '自然'}, 'tag': '自然', 'type': 'object'}, {'confidence': '72.08', 'i18n_tag': {'en': 'Green', 'zh': '绿色'}, 'tag': '绿色', 'type': 'object'}, {'confidence': '70.83', 'i18n_tag': {'en': 'Herbal', 'zh': '草本植物'}, 'tag': '草本植物', 'type': 'object'}], 'pic2.jpg': [{'confidence': '99.51', 'i18n_tag': {'en': 'Cat', 'zh': '猫'}, 'tag': '猫', 'type': 'object'}, {'confidence': '99.03', 'i18n_tag': {'en': 'Carnivora', 'zh': '食肉目'}, 'tag': '食肉目', 'type': 'object'}, {'confidence': '88.87', 'i18n_tag': {'en': 'Field road', 'zh': '田野路'}, 'tag': '田野路', 'type': 'scene'}, {'confidence': '86.07', 'i18n_tag': {'en': 'Animal', 'zh': '动物'}, 'tag': '动物', 'type': 'object'}, {'confidence': '83.25', 'i18n_tag': {'en': 'Mammal', 'zh': '哺乳动物'}, 'tag': '哺乳动物', 'type': 'object'}], 'pic_dark.bmp': [{'confidence': '99.22', 'i18n_tag': {'en': 'Lamp', 'zh': '灯'}, 'tag': '灯', 'type': 'object'}, {'confidence': '98.44', 'i18n_tag': {'en': 'Lighting device', 'zh': '照明设施'}, 'tag': '照明设施', 'type': 'object'}, {'confidence': '92.08', 'i18n_tag': {'en': 'Light', 'zh': '光'}, 'tag': '光', 'type': 'object'}, {'confidence': '91.31', 'i18n_tag': {'en': 'Shine', 'zh': '照亮'}, 'tag': '照亮', 'type': 'object'}, {'confidence': '88.58', 'i18n_tag': {'en': 'Lamps and lanterns', 'zh': '灯具'}, 'tag': '灯具', 'type': 'object'}], 'pic10.jpg': [{'confidence': '85.93', 'i18n_tag': {'en': 'Flower', 'zh': '花朵'}, 'tag': '花朵', 'type': 'object'}, {'confidence': '84.4', 'i18n_tag': {'en': 'Plant', 'zh': '植物'}, 'tag': '植物', 'type': 'object'}, {'confidence': '83.58', 'i18n_tag': {'en': 'Red', 'zh': '红色'}, 'tag': '红色', 'type': 'object'}, {'confidence': '79.96', 'i18n_tag': {'en': 'Flower', 'zh': '花'}, 'tag': '花', 'type': 'object'}, {'confidence': '78.74', 'i18n_tag': {'en': 'Flowers and plants', 'zh': '花卉'}, 'tag': '花卉', 'type': 'object'}], 'pic5.jpg': [{'confidence': '99.22', 'i18n_tag': {'en': 'Daisy', 'zh': '雏菊'}, 'tag': '雏菊', 'type': 'object'}, {'confidence': '98.44', 'i18n_tag': {'en': 'Flower', 'zh': '花'}, 'tag': '花', 'type': 'object'}, {'confidence': '94.27', 'i18n_tag': {'en': 'Herbal', 'zh': '草本植物'}, 'tag': '草本植物', 'type': 'object'}, {'confidence': '93.46', 'i18n_tag': {'en': 'Field road', 'zh': '田野路'}, 'tag': '田野路', 'type': 'scene'}, {'confidence': '89.42', 'i18n_tag': {'en': 'Flower', 'zh': '花朵'}, 'tag': '花朵', 'type': 'object'}], 'pic_fog.png': [{'confidence': '82.86', 'i18n_tag': {'en': 'House', 'zh': '房子'}, 'tag': '房子', 'type': 'object'}, {'confidence': '80.84', 'i18n_tag': {'en': 'Building', 'zh': '建筑'}, 'tag': '建筑', 'type': 'object'}, {'confidence': '74.65', 'i18n_tag': {'en': 'Plant', 'zh': '植物'}, 'tag': '植物', 'type': 'object'}, {'confidence': '73.35', 'i18n_tag': {'en': 'Green', 'zh': '绿色'}, 'tag': '绿色', 'type': 'object'}, {'confidence': '72.26', 'i18n_tag': {'en': 'Build', 'zh': '建设'}, 'tag': '建设', 'type': 'object'}], 'pic9.jpg': [{'confidence': '99.12', 'i18n_tag': {'en': 'Rose', 'zh': '玫瑰'}, 'tag': '玫瑰', 'type': 'object'}, {'confidence': '98.34', 'i18n_tag': {'en': 'Flower', 'zh': '花'}, 'tag': '花', 'type': 'object'}, {'confidence': '95.98', 'i18n_tag': {'en': 'Rose', 'zh': '玫瑰花'}, 'tag': '玫瑰花', 'type': 'object'}, {'confidence': '95.86', 'i18n_tag': {'en': 'Wedding', 'zh': '婚礼'}, 'tag': '婚礼', 'type': 'object'}, {'confidence': '95.02', 'i18n_tag': {'en': 'Flower', 'zh': '花朵'}, 'tag': '花朵', 'type': 'object'}], 'pic_super.png': [{'confidence': '98.62', 'i18n_tag': {'en': 'Person', 'zh': '人'}, 'tag': '人', 'type': 'object'}, {'confidence': '94.09', 'i18n_tag': {'en': 'Human face', 'zh': '人脸'}, 'tag': '人脸', 'type': 'object'}, {'confidence': '93.52', 'i18n_tag': {'en': 'Park', 'zh': '公园'}, 'tag': '公园', 'type': 'object'}, {'confidence': '89.91', 'i18n_tag': {'en': 'Summer', 'zh': '夏季'}, 'tag': '夏季', 'type': 'object'}, {'confidence': '89.66', 'i18n_tag': {'en': 'Fashion', 'zh': '时尚'}, 'tag': '时尚', 'type': 'object'}], 'pic6.jpg': [{'confidence': '95.67', 'i18n_tag': {'en': 'Dog', 'zh': '狗'}, 'tag': '狗', 'type': 'object'}, {'confidence': '93.36', 'i18n_tag': {'en': 'Animal', 'zh': '动物'}, 'tag': '动物', 'type': 'object'}, {'confidence': '91.49', 'i18n_tag': {'en': 'Mammal', 'zh': '哺乳动物'}, 'tag': '哺乳动物', 'type': 'object'}, {'confidence': '83.56', 'i18n_tag': {'en': 'Humor', 'zh': '幽默'}, 'tag': '幽默', 'type': 'object'}, {'confidence': '81.56', 'i18n_tag': {'en': 'Cat', 'zh': '猫'}, 'tag': '猫', 'type': 'object'}], 'pic3.jpg': [{'confidence': '95.9', 'i18n_tag': {'en': 'Lion', 'zh': '狮子'}, 'tag': '狮子', 'type': 'object'}, {'confidence': '91.97', 'i18n_tag': {'en': 'Carnivora', 'zh': '食肉目'}, 'tag': '食肉目', 'type': 'object'}, {'confidence': '87.27', 'i18n_tag': {'en': 'Cat', 'zh': '猫'}, 'tag': '猫', 'type': 'object'}, {'confidence': '86.89', 'i18n_tag': {'en': 'Animal', 'zh': '动物'}, 'tag': '动物', 'type': 'object'}, {'confidence': '74.74', 'i18n_tag': {'en': 'Hairy', 'zh': '毛茸茸'}, 'tag': '毛茸茸', 'type': 'object'}], 'pic1.jpg': [{'confidence': '89.72', 'i18n_tag': {'en': 'Running', 'zh': '奔跑'}, 'tag': '奔跑', 'type': 'object'}, {'confidence': '87.54', 'i18n_tag': {'en': 'Motion', 'zh': '运动'}, 'tag': '运动', 'type': 'object'}, {'confidence': '87.14', 'i18n_tag': {'en': 'Sunrise', 'zh': '日出'}, 'tag': '日出', 'type': 'object'}, {'confidence': '86.66', 'i18n_tag': {'en': 'Person', 'zh': '人'}, 'tag': '人', 'type': 'object'}, {'confidence': '83.75', 'i18n_tag': {'en': 'Outdoors', 'zh': '户外'}, 'tag': '户外', 'type': 'object'}], 'pic7.jpg': [{'confidence': '86.62', 'i18n_tag': {'en': 'Dandelion', 'zh': '蒲公英'}, 'tag': '蒲公英', 'type': 'object'}, {'confidence': '75.03', 'i18n_tag': {'en': 'Grass', 'zh': '草'}, 'tag': '草', 'type': 'object'}, {'confidence': '68.19', 'i18n_tag': {'en': 'Plant', 'zh': '植物'}, 'tag': '植物', 'type': 'object'}, {'confidence': '67.49', 'i18n_tag': {'en': 'Flower', 'zh': '花朵'}, 'tag': '花朵', 'type': 'object'}, {'confidence': '66.3', 'i18n_tag': {'en': 'Flower', 'zh': '花'}, 'tag': '花', 'type': 'object'}], 'pic4.jpg': [{'confidence': '92.19', 'i18n_tag': {'en': 'Retro', 'zh': '复古'}, 'tag': '复古', 'type': 'object'}, {'confidence': '91.4', 'i18n_tag': {'en': 'Design', 'zh': '设计'}, 'tag': '设计', 'type': 'object'}, {'confidence': '86.65', 'i18n_tag': {'en': 'Home furnishing', 'zh': '家居'}, 'tag': '家居', 'type': 'object'}, {'confidence': '86.43', 'i18n_tag': {'en': 'Bow window indoor', 'zh': '弓形窗/室内'}, 'tag': '弓形窗/室内', 'type': 'scene'}, {'confidence': '85.08', 'i18n_tag': {'en': 'Green', 'zh': '绿色'}, 'tag': '绿色', 'type': 'object'}]}\n"
     ]
    }
   ],
   "source": [
    "# 确定电子相册位置\n",
    "file_path ='data/'\n",
    "# 保存图片标签的字典\n",
    "labels = {}\n",
    "items = os.listdir(file_path)\n",
    "for i in items:\n",
    "    # 判断是否为文件，而不是文件夹\n",
    "    if os.path.isfile:\n",
    "        # 华为云 EI 目前支持 JPG/PNG/BMP 格式的图片\n",
    "        if i.endswith('jpg') or i.endswith('jpeg') or i.endswith('bmp') or i.endswith('png'):\n",
    "            # 为图片打上标签\n",
    "            result = image_tagging_aksk(app_key, app_secret, encode_to_base64(file_path + i), '', 'zh', 5, 60)\n",
    "            # 解析返回的结果\n",
    "            result_dic = json.loads(result)\n",
    "            # 将文件名与图片对齐\n",
    "            labels[i] = result_dic['result']['tags']\n",
    "# 显示结果\n",
    "print(labels)"
   ]
  },
  {
   "cell_type": "markdown",
   "id": "de1e2834",
   "metadata": {},
   "source": [
    "### 保存打标结果"
   ]
  },
  {
   "cell_type": "code",
   "execution_count": 11,
   "id": "7552f63a",
   "metadata": {},
   "outputs": [],
   "source": [
    "#将标签字典保存到文件\n",
    "save_path = './label'\n",
    "# 如果文件夹不存在则创建文件\n",
    "if not os.path.exists(save_path):\n",
    "    os.mkdir(save_path)\n",
    "# 创建文件,执行写入操作，并关闭\n",
    "with open(save_path + '/labels.json', 'w+') as f:\n",
    "    f.write(json.dumps(labels))"
   ]
  },
  {
   "cell_type": "markdown",
   "id": "3cabddd8",
   "metadata": {},
   "source": [
    "# 利用打标结果制作动态相册"
   ]
  },
  {
   "cell_type": "markdown",
   "id": "dc511f66",
   "metadata": {},
   "source": [
    "### 重新打开保存的标注结果"
   ]
  },
  {
   "cell_type": "code",
   "execution_count": 12,
   "id": "73d7a1c4",
   "metadata": {},
   "outputs": [],
   "source": [
    "# 打开刚刚保存的文件\n",
    "label_path = 'label/labels.json'\n",
    "with open(label_path,'r') as f:\n",
    "    labels = json.load(f)"
   ]
  },
  {
   "cell_type": "markdown",
   "id": "3f1ab171",
   "metadata": {},
   "source": [
    "### 利用关键字进行搜索"
   ]
  },
  {
   "cell_type": "code",
   "execution_count": 13,
   "id": "f6f74393",
   "metadata": {},
   "outputs": [
    {
     "name": "stdout",
     "output_type": "stream",
     "text": [
      "请输入搜索词猫\n",
      "['pic6.jpg', 'pic2.jpg', 'pic3.jpg']\n"
     ]
    }
   ],
   "source": [
    "# 搜索关键词\n",
    "key_word = input('请输入搜索词')\n",
    "# 设置可信百分比\n",
    "threshold = 60\n",
    "# 设置一个集合（集合内只存在唯一的元素）\n",
    "valid_list = set()\n",
    "# 遍历 labels 中的字典获取所有包含关键字的图片名字\n",
    "for k,v in labels.items():\n",
    "    for item in v:\n",
    "        if key_word in item['tag'] and float(item['confidence']) >= threshold:\n",
    "            valid_list.add(k)\n",
    "# 展示结果\n",
    "valid_list = list(valid_list)\n",
    "print(valid_list)"
   ]
  },
  {
   "cell_type": "markdown",
   "id": "bf9bc258",
   "metadata": {},
   "source": [
    "### 展示相关的图片"
   ]
  },
  {
   "cell_type": "code",
   "execution_count": 14,
   "id": "0a297fed",
   "metadata": {},
   "outputs": [
    {
     "data": {
      "image/png": "[encoded data removed]",
      "text/plain": [
       "<Figure size 432x288 with 3 Axes>"
      ]
     },
     "metadata": {
      "needs_background": "light"
     },
     "output_type": "display_data"
    }
   ],
   "source": [
    "# 设置画布大小\n",
    "plt.figure(24)\n",
    "# 将每张图片依次排列到画布上\n",
    "for k,v in enumerate(valid_list[:9]):\n",
    "    pic_path = 'data/' + v\n",
    "    img = Image.open(pic_path)\n",
    "    img = img.resize((640,400))\n",
    "    plt.subplot(331 + k)\n",
    "    plt.axis('off')\n",
    "    plt.imshow(img)\n",
    "plt.show()"
   ]
  },
  {
   "cell_type": "markdown",
   "id": "50f7be9d",
   "metadata": {},
   "source": [
    "### 制作 gif 图片"
   ]
  },
  {
   "cell_type": "code",
   "execution_count": 15,
   "id": "602258dd",
   "metadata": {},
   "outputs": [
    {
     "name": "stdout",
     "output_type": "stream",
     "text": [
      "gif 相册制作完成\n"
     ]
    }
   ],
   "source": [
    "# 生成一个临时文件夹\n",
    "if not os.path.exists('tmp'):\n",
    "    os.mkdir('tmp')\n",
    "# 将所有搜索到的图像转化为 gif 格式，并存储在临时文件夹中\n",
    "gif_list = []\n",
    "for k, pic in enumerate(valid_list):\n",
    "    pic_path = 'data/' + pic\n",
    "    img = Image.open(pic_path)\n",
    "    img = img.resize((640,380))\n",
    "    save_name = 'tmp/'+ str(k) + '.gif'\n",
    "    img.save(save_name)\n",
    "    gif_list.append(save_name)\n",
    "# 打开已经所有静止的 gif 图片\n",
    "images=[]\n",
    "for i in gif_list:\n",
    "    pic_path = i\n",
    "    images.append(Image.open(pic_path))\n",
    "# 存储成动图 gif\n",
    "images[0].save('相册动图.gif',\n",
    "    save_all=True,\n",
    "    append_images=images[1:],\n",
    "    duration=1000,\n",
    "    loop=0)\n",
    "# 释放内存\n",
    "del images\n",
    "# 删除临时文件夹\n",
    "shutil.rmtree('tmp')\n",
    "print('gif 相册制作完成')"
   ]
  },
  {
   "cell_type": "markdown",
   "id": "4bf5b7c2",
   "metadata": {},
   "source": [
    "# 利用标签对照片进行自动分类"
   ]
  },
  {
   "cell_type": "code",
   "execution_count": 16,
   "id": "8a8ed9ed",
   "metadata": {},
   "outputs": [
    {
     "name": "stdout",
     "output_type": "stream",
     "text": [
      "{'pic8.jpg': [{'confidence': '77.85', 'i18n_tag': {'en': 'Dandelion', 'zh': '蒲公英'}, 'tag': '蒲公英', 'type': 'object'}, {'confidence': '74.6', 'i18n_tag': {'en': 'Plant', 'zh': '植物'}, 'tag': '植物', 'type': 'object'}, {'confidence': '74.58', 'i18n_tag': {'en': 'Natural', 'zh': '自然'}, 'tag': '自然', 'type': 'object'}, {'confidence': '72.08', 'i18n_tag': {'en': 'Green', 'zh': '绿色'}, 'tag': '绿色', 'type': 'object'}, {'confidence': '70.83', 'i18n_tag': {'en': 'Herbal', 'zh': '草本植物'}, 'tag': '草本植物', 'type': 'object'}], 'pic2.jpg': [{'confidence': '99.51', 'i18n_tag': {'en': 'Cat', 'zh': '猫'}, 'tag': '猫', 'type': 'object'}, {'confidence': '99.03', 'i18n_tag': {'en': 'Carnivora', 'zh': '食肉目'}, 'tag': '食肉目', 'type': 'object'}, {'confidence': '88.87', 'i18n_tag': {'en': 'Field road', 'zh': '田野路'}, 'tag': '田野路', 'type': 'scene'}, {'confidence': '86.07', 'i18n_tag': {'en': 'Animal', 'zh': '动物'}, 'tag': '动物', 'type': 'object'}, {'confidence': '83.25', 'i18n_tag': {'en': 'Mammal', 'zh': '哺乳动物'}, 'tag': '哺乳动物', 'type': 'object'}], 'pic_dark.bmp': [{'confidence': '99.22', 'i18n_tag': {'en': 'Lamp', 'zh': '灯'}, 'tag': '灯', 'type': 'object'}, {'confidence': '98.44', 'i18n_tag': {'en': 'Lighting device', 'zh': '照明设施'}, 'tag': '照明设施', 'type': 'object'}, {'confidence': '92.08', 'i18n_tag': {'en': 'Light', 'zh': '光'}, 'tag': '光', 'type': 'object'}, {'confidence': '91.31', 'i18n_tag': {'en': 'Shine', 'zh': '照亮'}, 'tag': '照亮', 'type': 'object'}, {'confidence': '88.58', 'i18n_tag': {'en': 'Lamps and lanterns', 'zh': '灯具'}, 'tag': '灯具', 'type': 'object'}], 'pic10.jpg': [{'confidence': '85.93', 'i18n_tag': {'en': 'Flower', 'zh': '花朵'}, 'tag': '花朵', 'type': 'object'}, {'confidence': '84.4', 'i18n_tag': {'en': 'Plant', 'zh': '植物'}, 'tag': '植物', 'type': 'object'}, {'confidence': '83.58', 'i18n_tag': {'en': 'Red', 'zh': '红色'}, 'tag': '红色', 'type': 'object'}, {'confidence': '79.96', 'i18n_tag': {'en': 'Flower', 'zh': '花'}, 'tag': '花', 'type': 'object'}, {'confidence': '78.74', 'i18n_tag': {'en': 'Flowers and plants', 'zh': '花卉'}, 'tag': '花卉', 'type': 'object'}], 'pic5.jpg': [{'confidence': '99.22', 'i18n_tag': {'en': 'Daisy', 'zh': '雏菊'}, 'tag': '雏菊', 'type': 'object'}, {'confidence': '98.44', 'i18n_tag': {'en': 'Flower', 'zh': '花'}, 'tag': '花', 'type': 'object'}, {'confidence': '94.27', 'i18n_tag': {'en': 'Herbal', 'zh': '草本植物'}, 'tag': '草本植物', 'type': 'object'}, {'confidence': '93.46', 'i18n_tag': {'en': 'Field road', 'zh': '田野路'}, 'tag': '田野路', 'type': 'scene'}, {'confidence': '89.42', 'i18n_tag': {'en': 'Flower', 'zh': '花朵'}, 'tag': '花朵', 'type': 'object'}], 'pic_fog.png': [{'confidence': '82.86', 'i18n_tag': {'en': 'House', 'zh': '房子'}, 'tag': '房子', 'type': 'object'}, {'confidence': '80.84', 'i18n_tag': {'en': 'Building', 'zh': '建筑'}, 'tag': '建筑', 'type': 'object'}, {'confidence': '74.65', 'i18n_tag': {'en': 'Plant', 'zh': '植物'}, 'tag': '植物', 'type': 'object'}, {'confidence': '73.35', 'i18n_tag': {'en': 'Green', 'zh': '绿色'}, 'tag': '绿色', 'type': 'object'}, {'confidence': '72.26', 'i18n_tag': {'en': 'Build', 'zh': '建设'}, 'tag': '建设', 'type': 'object'}], 'pic9.jpg': [{'confidence': '99.12', 'i18n_tag': {'en': 'Rose', 'zh': '玫瑰'}, 'tag': '玫瑰', 'type': 'object'}, {'confidence': '98.34', 'i18n_tag': {'en': 'Flower', 'zh': '花'}, 'tag': '花', 'type': 'object'}, {'confidence': '95.98', 'i18n_tag': {'en': 'Rose', 'zh': '玫瑰花'}, 'tag': '玫瑰花', 'type': 'object'}, {'confidence': '95.86', 'i18n_tag': {'en': 'Wedding', 'zh': '婚礼'}, 'tag': '婚礼', 'type': 'object'}, {'confidence': '95.02', 'i18n_tag': {'en': 'Flower', 'zh': '花朵'}, 'tag': '花朵', 'type': 'object'}], 'pic_super.png': [{'confidence': '98.62', 'i18n_tag': {'en': 'Person', 'zh': '人'}, 'tag': '人', 'type': 'object'}, {'confidence': '94.09', 'i18n_tag': {'en': 'Human face', 'zh': '人脸'}, 'tag': '人脸', 'type': 'object'}, {'confidence': '93.52', 'i18n_tag': {'en': 'Park', 'zh': '公园'}, 'tag': '公园', 'type': 'object'}, {'confidence': '89.91', 'i18n_tag': {'en': 'Summer', 'zh': '夏季'}, 'tag': '夏季', 'type': 'object'}, {'confidence': '89.66', 'i18n_tag': {'en': 'Fashion', 'zh': '时尚'}, 'tag': '时尚', 'type': 'object'}], 'pic6.jpg': [{'confidence': '95.67', 'i18n_tag': {'en': 'Dog', 'zh': '狗'}, 'tag': '狗', 'type': 'object'}, {'confidence': '93.36', 'i18n_tag': {'en': 'Animal', 'zh': '动物'}, 'tag': '动物', 'type': 'object'}, {'confidence': '91.49', 'i18n_tag': {'en': 'Mammal', 'zh': '哺乳动物'}, 'tag': '哺乳动物', 'type': 'object'}, {'confidence': '83.56', 'i18n_tag': {'en': 'Humor', 'zh': '幽默'}, 'tag': '幽默', 'type': 'object'}, {'confidence': '81.56', 'i18n_tag': {'en': 'Cat', 'zh': '猫'}, 'tag': '猫', 'type': 'object'}], 'pic3.jpg': [{'confidence': '95.9', 'i18n_tag': {'en': 'Lion', 'zh': '狮子'}, 'tag': '狮子', 'type': 'object'}, {'confidence': '91.97', 'i18n_tag': {'en': 'Carnivora', 'zh': '食肉目'}, 'tag': '食肉目', 'type': 'object'}, {'confidence': '87.27', 'i18n_tag': {'en': 'Cat', 'zh': '猫'}, 'tag': '猫', 'type': 'object'}, {'confidence': '86.89', 'i18n_tag': {'en': 'Animal', 'zh': '动物'}, 'tag': '动物', 'type': 'object'}, {'confidence': '74.74', 'i18n_tag': {'en': 'Hairy', 'zh': '毛茸茸'}, 'tag': '毛茸茸', 'type': 'object'}], 'pic1.jpg': [{'confidence': '89.72', 'i18n_tag': {'en': 'Running', 'zh': '奔跑'}, 'tag': '奔跑', 'type': 'object'}, {'confidence': '87.54', 'i18n_tag': {'en': 'Motion', 'zh': '运动'}, 'tag': '运动', 'type': 'object'}, {'confidence': '87.14', 'i18n_tag': {'en': 'Sunrise', 'zh': '日出'}, 'tag': '日出', 'type': 'object'}, {'confidence': '86.66', 'i18n_tag': {'en': 'Person', 'zh': '人'}, 'tag': '人', 'type': 'object'}, {'confidence': '83.75', 'i18n_tag': {'en': 'Outdoors', 'zh': '户外'}, 'tag': '户外', 'type': 'object'}], 'pic7.jpg': [{'confidence': '86.62', 'i18n_tag': {'en': 'Dandelion', 'zh': '蒲公英'}, 'tag': '蒲公英', 'type': 'object'}, {'confidence': '75.03', 'i18n_tag': {'en': 'Grass', 'zh': '草'}, 'tag': '草', 'type': 'object'}, {'confidence': '68.19', 'i18n_tag': {'en': 'Plant', 'zh': '植物'}, 'tag': '植物', 'type': 'object'}, {'confidence': '67.49', 'i18n_tag': {'en': 'Flower', 'zh': '花朵'}, 'tag': '花朵', 'type': 'object'}, {'confidence': '66.3', 'i18n_tag': {'en': 'Flower', 'zh': '花'}, 'tag': '花', 'type': 'object'}], 'pic4.jpg': [{'confidence': '92.19', 'i18n_tag': {'en': 'Retro', 'zh': '复古'}, 'tag': '复古', 'type': 'object'}, {'confidence': '91.4', 'i18n_tag': {'en': 'Design', 'zh': '设计'}, 'tag': '设计', 'type': 'object'}, {'confidence': '86.65', 'i18n_tag': {'en': 'Home furnishing', 'zh': '家居'}, 'tag': '家居', 'type': 'object'}, {'confidence': '86.43', 'i18n_tag': {'en': 'Bow window indoor', 'zh': '弓形窗/室内'}, 'tag': '弓形窗/室内', 'type': 'scene'}, {'confidence': '85.08', 'i18n_tag': {'en': 'Green', 'zh': '绿色'}, 'tag': '绿色', 'type': 'object'}]}\n",
      "已完成移复制!\n"
     ]
    }
   ],
   "source": [
    "# 打开保存的 labels 文件\n",
    "label_path = 'label/labels.json'\n",
    "with open(label_path,'r') as f:\n",
    "    labels = json.load(f)\n",
    "print(labels)\n",
    "# 获取置信度最高的文件分类\n",
    "classes =[[v[0]['tag'],k] for k, v in labels.items()]\n",
    "classes\n",
    "for cls in classes:\n",
    "    if not os.path.exists('data/' + cls[0]):\n",
    "        os.mkdir('data/'+ cls[0])\n",
    "    # 复制被对应的图片\n",
    "    shutil.copy('data/'+ cls[1], 'data/'+ cls[0]+ '/' + cls[1])\n",
    "print('已完成移复制!')"
   ]
  },
  {
   "cell_type": "code",
   "execution_count": null,
   "id": "cb73bd7f",
   "metadata": {},
   "outputs": [],
   "source": []
  }
 ],
 "metadata": {
  "kernelspec": {
   "display_name": "Python 3 (ipykernel)",
   "language": "python",
   "name": "python3"
  },
  "language_info": {
   "codemirror_mode": {
    "name": "ipython",
    "version": 3
   },
   "file_extension": ".py",
   "mimetype": "text/x-python",
   "name": "python",
   "nbconvert_exporter": "python",
   "pygments_lexer": "ipython3",
   "version": "3.8.12"
  }
 },
 "nbformat": 4,
 "nbformat_minor": 5
}
