{
 "cells": [
  {
   "cell_type": "markdown",
   "id": "45d74864",
   "metadata": {},
   "source": [
    "# 语音识别"
   ]
  },
  {
   "cell_type": "markdown",
   "id": "61d0ddad",
   "metadata": {},
   "source": [
    "### 导入所需要的包"
   ]
  },
  {
   "cell_type": "code",
   "execution_count": 13,
   "id": "31e7d6ff",
   "metadata": {},
   "outputs": [],
   "source": [
    "# -*- coding: utf-8 -*-\n",
    "from huaweicloud_sis.client.asr_client import AsrCustomizationClient\n",
    "from huaweicloud_sis.bean.asr_request import AsrCustomShortRequest\n",
    "from huaweicloud_sis.bean.asr_request import AsrCustomLongRequest\n",
    "from huaweicloud_sis.exception.exceptions import ClientException\n",
    "from huaweicloud_sis.exception.exceptions import ServerException\n",
    "from huaweicloud_sis.utils import io_utils\n",
    "from huaweicloud_sis.bean.sis_config import SisConfig\n",
    "import json"
   ]
  },
  {
   "cell_type": "markdown",
   "id": "66cd8df5",
   "metadata": {},
   "source": [
    "### 配置相关参数"
   ]
  },
  {
   "cell_type": "code",
   "execution_count": 14,
   "id": "e05a02d3",
   "metadata": {},
   "outputs": [],
   "source": [
    "ak = \"Z7SGEX75VG9QAC2DEJN4\" #配置自己的 ak\n",
    "sk = \"E9Jng1euLFlPsiY8OmIQ4qidq9UDGhiomh2NPYaQ\" #配置自己的 sk\n",
    "project_id = \"a44bf3b3da4f428399c61a94cbf9f47a\" #配置自己的 project_id\n",
    "region = \"cn-north-4\" #默认使用北京-4 区，对应的区域代码即为 cn-north-4"
   ]
  },
  {
   "cell_type": "markdown",
   "id": "bf5ca1e8",
   "metadata": {},
   "source": [
    "### 配置数据和属性"
   ]
  },
  {
   "cell_type": "code",
   "execution_count": 15,
   "id": "6ffe24f9",
   "metadata": {},
   "outputs": [],
   "source": [
    "# 一句话识别参数，我们使用语音合成的语音数据，1min 以内的音频\n",
    "path = 'data/test.wav' \n",
    "path_audio_format = 'wav' # 音频格式，详见 api 文档\n",
    "path_property = 'chinese_8k_common' # language_sampleRate_domain, 如 chinese_8k_common，详见api 文档"
   ]
  },
  {
   "cell_type": "markdown",
   "id": "b5a030dc",
   "metadata": {},
   "source": [
    "### 初始化客户端"
   ]
  },
  {
   "cell_type": "code",
   "execution_count": 16,
   "id": "c5ab3b39",
   "metadata": {},
   "outputs": [],
   "source": [
    "config = SisConfig()\n",
    "config.set_connect_timeout(5) # 设置连接超时\n",
    "config.set_read_timeout(10)\n",
    "# 设置读取超时\n",
    "asr_client = AsrCustomizationClient(ak, sk, region, project_id, sis_config=config)#初始化客户端"
   ]
  },
  {
   "cell_type": "markdown",
   "id": "b1adb6d2",
   "metadata": {},
   "source": [
    "### 构造请求"
   ]
  },
  {
   "cell_type": "code",
   "execution_count": 17,
   "id": "9b15fe9f",
   "metadata": {},
   "outputs": [],
   "source": [
    "data = io_utils.encode_file(path)\n",
    "asr_request = AsrCustomShortRequest(path_audio_format, path_property, data)\n",
    "# 所有参数均可不设置，使用默认值\n",
    "# 设置是否添加标点，yes or no，默认 no\n",
    "asr_request.set_add_punc('yes')"
   ]
  },
  {
   "cell_type": "markdown",
   "id": "2fb6405a",
   "metadata": {},
   "source": [
    "### 语音识别测试"
   ]
  },
  {
   "cell_type": "code",
   "execution_count": 18,
   "id": "3fe0ddc4",
   "metadata": {},
   "outputs": [
    {
     "name": "stdout",
     "output_type": "stream",
     "text": [
      "{\n",
      "  \"trace_id\": \"1508abf7-b32c-49d2-9038-74722b9d6cd5\",\n",
      "  \"result\": {\n",
      "    \"text\": \"we are the world。\",\n",
      "    \"score\": 0.5987182421606775\n",
      "  }\n",
      "}\n"
     ]
    }
   ],
   "source": [
    "#发送请求，返回结果,返回结果为 json 格式\n",
    "result = asr_client.get_short_response(asr_request)\n",
    "print(json.dumps(result, indent=2, ensure_ascii=False))"
   ]
  }
 ],
 "metadata": {
  "kernelspec": {
   "display_name": "Python 3 (ipykernel)",
   "language": "python",
   "name": "python3"
  },
  "language_info": {
   "codemirror_mode": {
    "name": "ipython",
    "version": 3
   },
   "file_extension": ".py",
   "mimetype": "text/x-python",
   "name": "python",
   "nbconvert_exporter": "python",
   "pygments_lexer": "ipython3",
   "version": "3.8.12"
  }
 },
 "nbformat": 4,
 "nbformat_minor": 5
}
